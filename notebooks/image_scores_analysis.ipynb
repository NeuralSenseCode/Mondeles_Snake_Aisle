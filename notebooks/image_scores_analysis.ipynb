{
 "cells": [
  {
   "cell_type": "markdown",
   "id": "5c8387cb",
   "metadata": {},
   "source": [
    "## Run Notebook Cells from VS Code\n",
    "\n",
    "- To run the notebook programmatically: `python -m nbconvert --to notebook --execute notebooks/image_scores_analysis.ipynb --output notebooks/image_scores_analysis.output.ipynb`\n",
    "- Or use `papermill` to parameterize and run: `papermill notebooks/image_scores_analysis.ipynb notebooks/image_scores_analysis.output.ipynb`\n",
    "- In VS Code: use the interactive run cell controls or the Notebook UI; outputs appear in the Notebook Editor and integrated Output pane.\n",
    "\n",
    "When committed, strip large outputs and keep `data/` directory out of repo."
   ]
  },
  {
   "cell_type": "code",
   "execution_count": 64,
   "id": "0a2d18c5",
   "metadata": {},
   "outputs": [],
   "source": [
    "# Section: Import libraries\n",
    "import pandas as pd\n",
    "import numpy as np\n",
    "import matplotlib.pyplot as plt\n",
    "import seaborn as sns\n",
    "from pathlib import Path\n",
    "from IPython.display import display\n",
    "\n",
    "sns.set(style=\"whitegrid\")\n"
   ]
  },
  {
   "cell_type": "code",
   "execution_count": 65,
   "id": "ad4005c0",
   "metadata": {},
   "outputs": [],
   "source": [
    "# Read CSV\n",
    "\n",
    "df = pd.read_csv('../data/image_scores.csv')\n"
   ]
  },
  {
   "cell_type": "code",
   "execution_count": 66,
   "id": "cb1d6d6e",
   "metadata": {},
   "outputs": [
    {
     "name": "stdout",
     "output_type": "stream",
     "text": [
      "Original rows: 58\n",
      "Collapsed rows (one per stimulus): 29\n"
     ]
    },
    {
     "data": {
      "text/html": [
       "<div>\n",
       "<style scoped>\n",
       "    .dataframe tbody tr th:only-of-type {\n",
       "        vertical-align: middle;\n",
       "    }\n",
       "\n",
       "    .dataframe tbody tr th {\n",
       "        vertical-align: top;\n",
       "    }\n",
       "\n",
       "    .dataframe thead th {\n",
       "        text-align: right;\n",
       "    }\n",
       "</style>\n",
       "<table border=\"1\" class=\"dataframe\">\n",
       "  <thead>\n",
       "    <tr style=\"text-align: right;\">\n",
       "      <th></th>\n",
       "      <th>File Name</th>\n",
       "      <th>Cognitive Demand</th>\n",
       "      <th>Total Focus</th>\n",
       "      <th>Clarity</th>\n",
       "      <th>Start Focus</th>\n",
       "      <th>End Focus</th>\n",
       "      <th>Memory</th>\n",
       "      <th>Engagement</th>\n",
       "      <th>Category</th>\n",
       "    </tr>\n",
       "  </thead>\n",
       "  <tbody>\n",
       "    <tr>\n",
       "      <th>0</th>\n",
       "      <td>C10</td>\n",
       "      <td>62.316664</td>\n",
       "      <td>57.349265</td>\n",
       "      <td>68.17</td>\n",
       "      <td>54.502368</td>\n",
       "      <td>29.419799</td>\n",
       "      <td>37.995636</td>\n",
       "      <td>55.177185</td>\n",
       "      <td>Confectionary</td>\n",
       "    </tr>\n",
       "    <tr>\n",
       "      <th>1</th>\n",
       "      <td>C11</td>\n",
       "      <td>70.059074</td>\n",
       "      <td>63.779903</td>\n",
       "      <td>69.60</td>\n",
       "      <td>61.720601</td>\n",
       "      <td>28.546610</td>\n",
       "      <td>54.532407</td>\n",
       "      <td>58.356891</td>\n",
       "      <td>Confectionary</td>\n",
       "    </tr>\n",
       "    <tr>\n",
       "      <th>2</th>\n",
       "      <td>C12</td>\n",
       "      <td>61.032063</td>\n",
       "      <td>49.333468</td>\n",
       "      <td>68.21</td>\n",
       "      <td>33.734610</td>\n",
       "      <td>20.208139</td>\n",
       "      <td>37.057805</td>\n",
       "      <td>57.064825</td>\n",
       "      <td>Confectionary</td>\n",
       "    </tr>\n",
       "    <tr>\n",
       "      <th>3</th>\n",
       "      <td>C13</td>\n",
       "      <td>68.038673</td>\n",
       "      <td>47.901010</td>\n",
       "      <td>64.42</td>\n",
       "      <td>44.658521</td>\n",
       "      <td>31.041710</td>\n",
       "      <td>66.003350</td>\n",
       "      <td>65.999350</td>\n",
       "      <td>Confectionary</td>\n",
       "    </tr>\n",
       "    <tr>\n",
       "      <th>4</th>\n",
       "      <td>C14</td>\n",
       "      <td>59.472052</td>\n",
       "      <td>59.683182</td>\n",
       "      <td>66.47</td>\n",
       "      <td>57.821495</td>\n",
       "      <td>35.158700</td>\n",
       "      <td>59.330350</td>\n",
       "      <td>65.082189</td>\n",
       "      <td>Confectionary</td>\n",
       "    </tr>\n",
       "  </tbody>\n",
       "</table>\n",
       "</div>"
      ],
      "text/plain": [
       "  File Name  Cognitive Demand  Total Focus  Clarity  Start Focus  End Focus  \\\n",
       "0       C10         62.316664    57.349265    68.17    54.502368  29.419799   \n",
       "1       C11         70.059074    63.779903    69.60    61.720601  28.546610   \n",
       "2       C12         61.032063    49.333468    68.21    33.734610  20.208139   \n",
       "3       C13         68.038673    47.901010    64.42    44.658521  31.041710   \n",
       "4       C14         59.472052    59.683182    66.47    57.821495  35.158700   \n",
       "\n",
       "      Memory  Engagement       Category  \n",
       "0  37.995636   55.177185  Confectionary  \n",
       "1  54.532407   58.356891  Confectionary  \n",
       "2  37.057805   57.064825  Confectionary  \n",
       "3  66.003350   65.999350  Confectionary  \n",
       "4  59.330350   65.082189  Confectionary  "
      ]
     },
     "metadata": {},
     "output_type": "display_data"
    }
   ],
   "source": [
    "# Collapse paired stimulus rows (base + _frt) into one row per stimulus\n",
    "# Strategy: create \"stimulus\" base name (remove trailing _frt),\n",
    "# then take the first non-null value per column within each group.\n",
    "\n",
    "# Ensure empty strings are treated as NaN\n",
    "df = df.replace(r'^\\s*$', np.nan, regex=True)\n",
    "\n",
    "# Create base stimulus id\n",
    "df['stimulus'] = df['File Name'].astype(str).str.replace(r'_frt$', '', regex=True)\n",
    "\n",
    "# Aggregation helper: first non-null value\n",
    "def first_nonnull(s):\n",
    "    s2 = s.dropna()\n",
    "    return s2.iloc[0] if not s2.empty else np.nan\n",
    "\n",
    "collapsed = df.groupby('stimulus', dropna=False).agg(first_nonnull).reset_index(drop=False)\n",
    "\n",
    "# Set 'File Name' to the stimulus name and drop the temporary column\n",
    "collapsed['File Name'] = collapsed['stimulus']\n",
    "collapsed = collapsed.drop(columns=['stimulus'])\n",
    "\n",
    "# Convert numeric-like columns to numbers where possible\n",
    "for col in collapsed.columns:\n",
    "    if col == 'File Name':\n",
    "        continue\n",
    "    # attempt to coerce to numeric; preserve if not numeric\n",
    "    try:\n",
    "        collapsed[col] = pd.to_numeric(collapsed[col])\n",
    "    except (ValueError, TypeError):\n",
    "        pass  # keep as is if not numeric\n",
    "\n",
    "# Rename column for better readability\n",
    "collapsed = collapsed.rename(columns={'CognitiveDemand': 'Cognitive Demand'})\n",
    "\n",
    "# Remove 'Engagement' column and rename 'EngagementFRT' to 'Engagement'\n",
    "if 'Engagement' in collapsed.columns:\n",
    "    collapsed = collapsed.drop(columns=['Engagement'])\n",
    "collapsed = collapsed.rename(columns={'EngagementFRT': 'Engagement'})\n",
    "\n",
    "# Add `Type` column based on File Name prefix\n",
    "# - filenames starting with 'C' -> 'Confectionary'\n",
    "# - filenames starting with 'HG' -> 'Household Goods'\n",
    "# treat other/unknown prefixes as NaN\n",
    "def classify_type(fname):\n",
    "    if not isinstance(fname, str):\n",
    "        return np.nan\n",
    "    if fname.startswith('C'):\n",
    "        return 'Confectionary'\n",
    "    if fname.startswith('HG'):\n",
    "        return 'Household Goods'\n",
    "    return np.nan\n",
    "\n",
    "collapsed['Category'] = collapsed['File Name'].astype(str).apply(classify_type)\n",
    "\n",
    "# Remove the old 'Type' column if it exists\n",
    "if 'Type' in collapsed.columns:\n",
    "    collapsed = collapsed.drop(columns=['Type'])\n",
    "\n",
    "# Show results\n",
    "print('Original rows:', len(df))\n",
    "print('Collapsed rows (one per stimulus):', len(collapsed))\n",
    "display(collapsed.head())\n",
    "\n",
    "# NOTE: per your instruction, do not save outputs in this run.\n",
    "# When you're ready to save the cleaned CSV, uncomment and run the lines below:\n",
    "# out_path = Path('cleaned_image_scores.csv')\n",
    "# collapsed.to_csv(out_path, index=False)\n",
    "# print('Saved cleaned CSV to', out_path.resolve())\n",
    "\n",
    "# Replace df with collapsed for subsequent cells\n",
    "df = collapsed\n"
   ]
  },
  {
   "cell_type": "code",
   "execution_count": 67,
   "id": "1f5e0887",
   "metadata": {},
   "outputs": [
    {
     "ename": "ValueError",
     "evalue": "Could not interpret value `category` for `hue`. An entry with this name does not appear in `data`.",
     "output_type": "error",
     "traceback": [
      "\u001b[31m---------------------------------------------------------------------------\u001b[39m",
      "\u001b[31mValueError\u001b[39m                                Traceback (most recent call last)",
      "\u001b[36mCell\u001b[39m\u001b[36m \u001b[39m\u001b[32mIn[67]\u001b[39m\u001b[32m, line 13\u001b[39m\n\u001b[32m     11\u001b[39m \u001b[38;5;28;01mfor\u001b[39;00m col \u001b[38;5;129;01min\u001b[39;00m metric_cols:\n\u001b[32m     12\u001b[39m     plt.figure(figsize=(\u001b[32m8\u001b[39m, \u001b[32m5\u001b[39m))\n\u001b[32m---> \u001b[39m\u001b[32m13\u001b[39m     \u001b[43msns\u001b[49m\u001b[43m.\u001b[49m\u001b[43mhistplot\u001b[49m\u001b[43m(\u001b[49m\u001b[43mdata\u001b[49m\u001b[43m=\u001b[49m\u001b[43mdf\u001b[49m\u001b[43m,\u001b[49m\u001b[43m \u001b[49m\u001b[43mx\u001b[49m\u001b[43m=\u001b[49m\u001b[43mcol\u001b[49m\u001b[43m,\u001b[49m\u001b[43m \u001b[49m\u001b[43mhue\u001b[49m\u001b[43m=\u001b[49m\u001b[33;43m'\u001b[39;49m\u001b[33;43mcategory\u001b[39;49m\u001b[33;43m'\u001b[39;49m\u001b[43m,\u001b[49m\u001b[43m \u001b[49m\u001b[43mpalette\u001b[49m\u001b[43m=\u001b[49m\u001b[43mpalette\u001b[49m\u001b[43m,\u001b[49m\u001b[43m \u001b[49m\u001b[43malpha\u001b[49m\u001b[43m=\u001b[49m\u001b[32;43m0.7\u001b[39;49m\u001b[43m,\u001b[49m\u001b[43m \u001b[49m\u001b[43mbins\u001b[49m\u001b[43m=\u001b[49m\u001b[32;43m20\u001b[39;49m\u001b[43m)\u001b[49m\n\u001b[32m     14\u001b[39m     plt.title(\u001b[33mf\u001b[39m\u001b[33m'\u001b[39m\u001b[33mDistribution of \u001b[39m\u001b[38;5;132;01m{\u001b[39;00mcol\u001b[38;5;132;01m}\u001b[39;00m\u001b[33m by Type\u001b[39m\u001b[33m'\u001b[39m)\n\u001b[32m     15\u001b[39m     plt.xlabel(col)\n",
      "\u001b[36mFile \u001b[39m\u001b[32mc:\\Users\\ashra\\Documents\\NeuralSense\\NeuralData\\clients\\Mondeles_Snake_Aisle\\.venv\\Lib\\site-packages\\seaborn\\distributions.py:1379\u001b[39m, in \u001b[36mhistplot\u001b[39m\u001b[34m(data, x, y, hue, weights, stat, bins, binwidth, binrange, discrete, cumulative, common_bins, common_norm, multiple, element, fill, shrink, kde, kde_kws, line_kws, thresh, pthresh, pmax, cbar, cbar_ax, cbar_kws, palette, hue_order, hue_norm, color, log_scale, legend, ax, **kwargs)\u001b[39m\n\u001b[32m   1358\u001b[39m \u001b[38;5;28;01mdef\u001b[39;00m\u001b[38;5;250m \u001b[39m\u001b[34mhistplot\u001b[39m(\n\u001b[32m   1359\u001b[39m     data=\u001b[38;5;28;01mNone\u001b[39;00m, *,\n\u001b[32m   1360\u001b[39m     \u001b[38;5;66;03m# Vector variables\u001b[39;00m\n\u001b[32m   (...)\u001b[39m\u001b[32m   1376\u001b[39m     **kwargs,\n\u001b[32m   1377\u001b[39m ):\n\u001b[32m-> \u001b[39m\u001b[32m1379\u001b[39m     p = \u001b[43m_DistributionPlotter\u001b[49m\u001b[43m(\u001b[49m\n\u001b[32m   1380\u001b[39m \u001b[43m        \u001b[49m\u001b[43mdata\u001b[49m\u001b[43m=\u001b[49m\u001b[43mdata\u001b[49m\u001b[43m,\u001b[49m\n\u001b[32m   1381\u001b[39m \u001b[43m        \u001b[49m\u001b[43mvariables\u001b[49m\u001b[43m=\u001b[49m\u001b[38;5;28;43mdict\u001b[39;49m\u001b[43m(\u001b[49m\u001b[43mx\u001b[49m\u001b[43m=\u001b[49m\u001b[43mx\u001b[49m\u001b[43m,\u001b[49m\u001b[43m \u001b[49m\u001b[43my\u001b[49m\u001b[43m=\u001b[49m\u001b[43my\u001b[49m\u001b[43m,\u001b[49m\u001b[43m \u001b[49m\u001b[43mhue\u001b[49m\u001b[43m=\u001b[49m\u001b[43mhue\u001b[49m\u001b[43m,\u001b[49m\u001b[43m \u001b[49m\u001b[43mweights\u001b[49m\u001b[43m=\u001b[49m\u001b[43mweights\u001b[49m\u001b[43m)\u001b[49m\u001b[43m,\u001b[49m\n\u001b[32m   1382\u001b[39m \u001b[43m    \u001b[49m\u001b[43m)\u001b[49m\n\u001b[32m   1384\u001b[39m     p.map_hue(palette=palette, order=hue_order, norm=hue_norm)\n\u001b[32m   1386\u001b[39m     \u001b[38;5;28;01mif\u001b[39;00m ax \u001b[38;5;129;01mis\u001b[39;00m \u001b[38;5;28;01mNone\u001b[39;00m:\n",
      "\u001b[36mFile \u001b[39m\u001b[32mc:\\Users\\ashra\\Documents\\NeuralSense\\NeuralData\\clients\\Mondeles_Snake_Aisle\\.venv\\Lib\\site-packages\\seaborn\\distributions.py:110\u001b[39m, in \u001b[36m_DistributionPlotter.__init__\u001b[39m\u001b[34m(self, data, variables)\u001b[39m\n\u001b[32m    104\u001b[39m \u001b[38;5;28;01mdef\u001b[39;00m\u001b[38;5;250m \u001b[39m\u001b[34m__init__\u001b[39m(\n\u001b[32m    105\u001b[39m     \u001b[38;5;28mself\u001b[39m,\n\u001b[32m    106\u001b[39m     data=\u001b[38;5;28;01mNone\u001b[39;00m,\n\u001b[32m    107\u001b[39m     variables={},\n\u001b[32m    108\u001b[39m ):\n\u001b[32m--> \u001b[39m\u001b[32m110\u001b[39m     \u001b[38;5;28;43msuper\u001b[39;49m\u001b[43m(\u001b[49m\u001b[43m)\u001b[49m\u001b[43m.\u001b[49m\u001b[34;43m__init__\u001b[39;49m\u001b[43m(\u001b[49m\u001b[43mdata\u001b[49m\u001b[43m=\u001b[49m\u001b[43mdata\u001b[49m\u001b[43m,\u001b[49m\u001b[43m \u001b[49m\u001b[43mvariables\u001b[49m\u001b[43m=\u001b[49m\u001b[43mvariables\u001b[49m\u001b[43m)\u001b[49m\n",
      "\u001b[36mFile \u001b[39m\u001b[32mc:\\Users\\ashra\\Documents\\NeuralSense\\NeuralData\\clients\\Mondeles_Snake_Aisle\\.venv\\Lib\\site-packages\\seaborn\\_base.py:634\u001b[39m, in \u001b[36mVectorPlotter.__init__\u001b[39m\u001b[34m(self, data, variables)\u001b[39m\n\u001b[32m    629\u001b[39m \u001b[38;5;66;03m# var_ordered is relevant only for categorical axis variables, and may\u001b[39;00m\n\u001b[32m    630\u001b[39m \u001b[38;5;66;03m# be better handled by an internal axis information object that tracks\u001b[39;00m\n\u001b[32m    631\u001b[39m \u001b[38;5;66;03m# such information and is set up by the scale_* methods. The analogous\u001b[39;00m\n\u001b[32m    632\u001b[39m \u001b[38;5;66;03m# information for numeric axes would be information about log scales.\u001b[39;00m\n\u001b[32m    633\u001b[39m \u001b[38;5;28mself\u001b[39m._var_ordered = {\u001b[33m\"\u001b[39m\u001b[33mx\u001b[39m\u001b[33m\"\u001b[39m: \u001b[38;5;28;01mFalse\u001b[39;00m, \u001b[33m\"\u001b[39m\u001b[33my\u001b[39m\u001b[33m\"\u001b[39m: \u001b[38;5;28;01mFalse\u001b[39;00m}  \u001b[38;5;66;03m# alt., used DefaultDict\u001b[39;00m\n\u001b[32m--> \u001b[39m\u001b[32m634\u001b[39m \u001b[38;5;28;43mself\u001b[39;49m\u001b[43m.\u001b[49m\u001b[43massign_variables\u001b[49m\u001b[43m(\u001b[49m\u001b[43mdata\u001b[49m\u001b[43m,\u001b[49m\u001b[43m \u001b[49m\u001b[43mvariables\u001b[49m\u001b[43m)\u001b[49m\n\u001b[32m    636\u001b[39m \u001b[38;5;66;03m# TODO Lots of tests assume that these are called to initialize the\u001b[39;00m\n\u001b[32m    637\u001b[39m \u001b[38;5;66;03m# mappings to default values on class initialization. I'd prefer to\u001b[39;00m\n\u001b[32m    638\u001b[39m \u001b[38;5;66;03m# move away from that and only have a mapping when explicitly called.\u001b[39;00m\n\u001b[32m    639\u001b[39m \u001b[38;5;28;01mfor\u001b[39;00m var \u001b[38;5;129;01min\u001b[39;00m [\u001b[33m\"\u001b[39m\u001b[33mhue\u001b[39m\u001b[33m\"\u001b[39m, \u001b[33m\"\u001b[39m\u001b[33msize\u001b[39m\u001b[33m\"\u001b[39m, \u001b[33m\"\u001b[39m\u001b[33mstyle\u001b[39m\u001b[33m\"\u001b[39m]:\n",
      "\u001b[36mFile \u001b[39m\u001b[32mc:\\Users\\ashra\\Documents\\NeuralSense\\NeuralData\\clients\\Mondeles_Snake_Aisle\\.venv\\Lib\\site-packages\\seaborn\\_base.py:679\u001b[39m, in \u001b[36mVectorPlotter.assign_variables\u001b[39m\u001b[34m(self, data, variables)\u001b[39m\n\u001b[32m    674\u001b[39m \u001b[38;5;28;01melse\u001b[39;00m:\n\u001b[32m    675\u001b[39m     \u001b[38;5;66;03m# When dealing with long-form input, use the newer PlotData\u001b[39;00m\n\u001b[32m    676\u001b[39m     \u001b[38;5;66;03m# object (internal but introduced for the objects interface)\u001b[39;00m\n\u001b[32m    677\u001b[39m     \u001b[38;5;66;03m# to centralize / standardize data consumption logic.\u001b[39;00m\n\u001b[32m    678\u001b[39m     \u001b[38;5;28mself\u001b[39m.input_format = \u001b[33m\"\u001b[39m\u001b[33mlong\u001b[39m\u001b[33m\"\u001b[39m\n\u001b[32m--> \u001b[39m\u001b[32m679\u001b[39m     plot_data = \u001b[43mPlotData\u001b[49m\u001b[43m(\u001b[49m\u001b[43mdata\u001b[49m\u001b[43m,\u001b[49m\u001b[43m \u001b[49m\u001b[43mvariables\u001b[49m\u001b[43m)\u001b[49m\n\u001b[32m    680\u001b[39m     frame = plot_data.frame\n\u001b[32m    681\u001b[39m     names = plot_data.names\n",
      "\u001b[36mFile \u001b[39m\u001b[32mc:\\Users\\ashra\\Documents\\NeuralSense\\NeuralData\\clients\\Mondeles_Snake_Aisle\\.venv\\Lib\\site-packages\\seaborn\\_core\\data.py:58\u001b[39m, in \u001b[36mPlotData.__init__\u001b[39m\u001b[34m(self, data, variables)\u001b[39m\n\u001b[32m     51\u001b[39m \u001b[38;5;28;01mdef\u001b[39;00m\u001b[38;5;250m \u001b[39m\u001b[34m__init__\u001b[39m(\n\u001b[32m     52\u001b[39m     \u001b[38;5;28mself\u001b[39m,\n\u001b[32m     53\u001b[39m     data: DataSource,\n\u001b[32m     54\u001b[39m     variables: \u001b[38;5;28mdict\u001b[39m[\u001b[38;5;28mstr\u001b[39m, VariableSpec],\n\u001b[32m     55\u001b[39m ):\n\u001b[32m     57\u001b[39m     data = handle_data_source(data)\n\u001b[32m---> \u001b[39m\u001b[32m58\u001b[39m     frame, names, ids = \u001b[38;5;28;43mself\u001b[39;49m\u001b[43m.\u001b[49m\u001b[43m_assign_variables\u001b[49m\u001b[43m(\u001b[49m\u001b[43mdata\u001b[49m\u001b[43m,\u001b[49m\u001b[43m \u001b[49m\u001b[43mvariables\u001b[49m\u001b[43m)\u001b[49m\n\u001b[32m     60\u001b[39m     \u001b[38;5;28mself\u001b[39m.frame = frame\n\u001b[32m     61\u001b[39m     \u001b[38;5;28mself\u001b[39m.names = names\n",
      "\u001b[36mFile \u001b[39m\u001b[32mc:\\Users\\ashra\\Documents\\NeuralSense\\NeuralData\\clients\\Mondeles_Snake_Aisle\\.venv\\Lib\\site-packages\\seaborn\\_core\\data.py:232\u001b[39m, in \u001b[36mPlotData._assign_variables\u001b[39m\u001b[34m(self, data, variables)\u001b[39m\n\u001b[32m    230\u001b[39m     \u001b[38;5;28;01melse\u001b[39;00m:\n\u001b[32m    231\u001b[39m         err += \u001b[33m\"\u001b[39m\u001b[33mAn entry with this name does not appear in `data`.\u001b[39m\u001b[33m\"\u001b[39m\n\u001b[32m--> \u001b[39m\u001b[32m232\u001b[39m     \u001b[38;5;28;01mraise\u001b[39;00m \u001b[38;5;167;01mValueError\u001b[39;00m(err)\n\u001b[32m    234\u001b[39m \u001b[38;5;28;01melse\u001b[39;00m:\n\u001b[32m    235\u001b[39m \n\u001b[32m    236\u001b[39m     \u001b[38;5;66;03m# Otherwise, assume the value somehow represents data\u001b[39;00m\n\u001b[32m    237\u001b[39m \n\u001b[32m    238\u001b[39m     \u001b[38;5;66;03m# Ignore empty data structures\u001b[39;00m\n\u001b[32m    239\u001b[39m     \u001b[38;5;28;01mif\u001b[39;00m \u001b[38;5;28misinstance\u001b[39m(val, Sized) \u001b[38;5;129;01mand\u001b[39;00m \u001b[38;5;28mlen\u001b[39m(val) == \u001b[32m0\u001b[39m:\n",
      "\u001b[31mValueError\u001b[39m: Could not interpret value `category` for `hue`. An entry with this name does not appear in `data`."
     ]
    },
    {
     "data": {
      "text/plain": [
       "<Figure size 800x500 with 0 Axes>"
      ]
     },
     "metadata": {},
     "output_type": "display_data"
    }
   ],
   "source": [
    "# Create histogram plots for each metric, colored by category\n",
    "# Confectionary: deepskyblue, Household Goods: red\n",
    "\n",
    "# Define the metric columns (exclude File Name and category)\n",
    "metric_cols = [col for col in df.columns if col not in ['File Name', 'category']]\n",
    "\n",
    "# Custom palette\n",
    "palette = {'Confectionary': 'deepskyblue', 'Household Goods': 'red'}\n",
    "\n",
    "# Create histograms for each metric\n",
    "for col in metric_cols:\n",
    "    plt.figure(figsize=(8, 5))\n",
    "    sns.histplot(data=df, x=col, hue='category', palette=palette, alpha=0.7, bins=20)\n",
    "    plt.title(f'Distribution of {col} by Type')\n",
    "    plt.xlabel(col)\n",
    "    plt.ylabel('Frequency')\n",
    "    plt.show()\n"
   ]
  },
  {
   "cell_type": "code",
   "execution_count": null,
   "id": "27f1d062",
   "metadata": {},
   "outputs": [
    {
     "name": "stdout",
     "output_type": "stream",
     "text": [
      "Statistical Comparison: Confectionary vs Household Goods\n",
      "============================================================\n"
     ]
    },
    {
     "name": "stderr",
     "output_type": "stream",
     "text": [
      "C:\\Users\\ashra\\AppData\\Local\\Temp\\ipykernel_57560\\3404509489.py:19: FutureWarning: \n",
      "\n",
      "Passing `palette` without assigning `hue` is deprecated and will be removed in v0.14.0. Assign the `x` variable to `hue` and set `legend=False` for the same effect.\n",
      "\n",
      "  sns.boxplot(data=df, x='category', y=col, palette=palette)\n"
     ]
    },
    {
     "data": {
      "image/png": "[encoded data removed]",
      "text/plain": [
       "<Figure size 300x200 with 1 Axes>"
      ]
     },
     "metadata": {},
     "output_type": "display_data"
    },
    {
     "name": "stdout",
     "output_type": "stream",
     "text": [
      "Cognitive Demand:\n",
      "  Confectionary: n=14, mean=64.22, std=4.21\n",
      "  Household Goods: n=15, mean=58.09, std=7.30\n",
      "  t-statistic: 2.789, p-value: 0.0105\n",
      "  → Significant difference (p < 0.05)\n",
      "\n"
     ]
    },
    {
     "name": "stderr",
     "output_type": "stream",
     "text": [
      "C:\\Users\\ashra\\AppData\\Local\\Temp\\ipykernel_57560\\3404509489.py:19: FutureWarning: \n",
      "\n",
      "Passing `palette` without assigning `hue` is deprecated and will be removed in v0.14.0. Assign the `x` variable to `hue` and set `legend=False` for the same effect.\n",
      "\n",
      "  sns.boxplot(data=df, x='category', y=col, palette=palette)\n"
     ]
    },
    {
     "data": {
      "image/png": "[encoded data removed]",
      "text/plain": [
       "<Figure size 300x200 with 1 Axes>"
      ]
     },
     "metadata": {},
     "output_type": "display_data"
    },
    {
     "name": "stdout",
     "output_type": "stream",
     "text": [
      "Total Focus:\n",
      "  Confectionary: n=14, mean=54.31, std=8.11\n",
      "  Household Goods: n=15, mean=60.06, std=9.26\n",
      "  t-statistic: -1.783, p-value: 0.0859\n",
      "  → No significant difference (p >= 0.05)\n",
      "\n"
     ]
    },
    {
     "name": "stderr",
     "output_type": "stream",
     "text": [
      "C:\\Users\\ashra\\AppData\\Local\\Temp\\ipykernel_57560\\3404509489.py:19: FutureWarning: \n",
      "\n",
      "Passing `palette` without assigning `hue` is deprecated and will be removed in v0.14.0. Assign the `x` variable to `hue` and set `legend=False` for the same effect.\n",
      "\n",
      "  sns.boxplot(data=df, x='category', y=col, palette=palette)\n"
     ]
    },
    {
     "data": {
      "image/png": "[encoded data removed]",
      "text/plain": [
       "<Figure size 300x200 with 1 Axes>"
      ]
     },
     "metadata": {},
     "output_type": "display_data"
    },
    {
     "name": "stdout",
     "output_type": "stream",
     "text": [
      "Clarity:\n",
      "  Confectionary: n=14, mean=67.16, std=5.02\n",
      "  Household Goods: n=15, mean=68.71, std=6.20\n",
      "  t-statistic: -0.740, p-value: 0.4661\n",
      "  → No significant difference (p >= 0.05)\n",
      "\n"
     ]
    },
    {
     "name": "stderr",
     "output_type": "stream",
     "text": [
      "C:\\Users\\ashra\\AppData\\Local\\Temp\\ipykernel_57560\\3404509489.py:19: FutureWarning: \n",
      "\n",
      "Passing `palette` without assigning `hue` is deprecated and will be removed in v0.14.0. Assign the `x` variable to `hue` and set `legend=False` for the same effect.\n",
      "\n",
      "  sns.boxplot(data=df, x='category', y=col, palette=palette)\n"
     ]
    },
    {
     "data": {
      "image/png": "[encoded data removed]",
      "text/plain": [
       "<Figure size 300x200 with 1 Axes>"
      ]
     },
     "metadata": {},
     "output_type": "display_data"
    },
    {
     "name": "stdout",
     "output_type": "stream",
     "text": [
      "Start Focus:\n",
      "  Confectionary: n=14, mean=50.41, std=11.52\n",
      "  Household Goods: n=15, mean=59.11, std=14.28\n",
      "  t-statistic: -1.812, p-value: 0.0814\n",
      "  → No significant difference (p >= 0.05)\n",
      "\n"
     ]
    },
    {
     "name": "stderr",
     "output_type": "stream",
     "text": [
      "C:\\Users\\ashra\\AppData\\Local\\Temp\\ipykernel_57560\\3404509489.py:19: FutureWarning: \n",
      "\n",
      "Passing `palette` without assigning `hue` is deprecated and will be removed in v0.14.0. Assign the `x` variable to `hue` and set `legend=False` for the same effect.\n",
      "\n",
      "  sns.boxplot(data=df, x='category', y=col, palette=palette)\n"
     ]
    },
    {
     "data": {
      "image/png": "[encoded data removed]",
      "text/plain": [
       "<Figure size 300x200 with 1 Axes>"
      ]
     },
     "metadata": {},
     "output_type": "display_data"
    },
    {
     "name": "stdout",
     "output_type": "stream",
     "text": [
      "End Focus:\n",
      "  Confectionary: n=14, mean=29.11, std=6.00\n",
      "  Household Goods: n=15, mean=38.96, std=13.33\n",
      "  t-statistic: -2.591, p-value: 0.0176\n",
      "  → Significant difference (p < 0.05)\n",
      "\n"
     ]
    },
    {
     "name": "stderr",
     "output_type": "stream",
     "text": [
      "C:\\Users\\ashra\\AppData\\Local\\Temp\\ipykernel_57560\\3404509489.py:19: FutureWarning: \n",
      "\n",
      "Passing `palette` without assigning `hue` is deprecated and will be removed in v0.14.0. Assign the `x` variable to `hue` and set `legend=False` for the same effect.\n",
      "\n",
      "  sns.boxplot(data=df, x='category', y=col, palette=palette)\n"
     ]
    },
    {
     "data": {
      "image/png": "[encoded data removed]",
      "text/plain": [
       "<Figure size 300x200 with 1 Axes>"
      ]
     },
     "metadata": {},
     "output_type": "display_data"
    },
    {
     "name": "stdout",
     "output_type": "stream",
     "text": [
      "Memory:\n",
      "  Confectionary: n=14, mean=38.04, std=13.40\n",
      "  Household Goods: n=15, mean=55.08, std=13.15\n",
      "  t-statistic: -3.452, p-value: 0.0019\n",
      "  → Significant difference (p < 0.05)\n",
      "\n"
     ]
    },
    {
     "name": "stderr",
     "output_type": "stream",
     "text": [
      "C:\\Users\\ashra\\AppData\\Local\\Temp\\ipykernel_57560\\3404509489.py:19: FutureWarning: \n",
      "\n",
      "Passing `palette` without assigning `hue` is deprecated and will be removed in v0.14.0. Assign the `x` variable to `hue` and set `legend=False` for the same effect.\n",
      "\n",
      "  sns.boxplot(data=df, x='category', y=col, palette=palette)\n"
     ]
    },
    {
     "data": {
      "image/png": "[encoded data removed]",
      "text/plain": [
       "<Figure size 300x200 with 1 Axes>"
      ]
     },
     "metadata": {},
     "output_type": "display_data"
    },
    {
     "name": "stdout",
     "output_type": "stream",
     "text": [
      "Engagement:\n",
      "  Confectionary: n=14, mean=52.61, std=11.88\n",
      "  Household Goods: n=15, mean=63.90, std=9.73\n",
      "  t-statistic: -2.788, p-value: 0.0099\n",
      "  → Significant difference (p < 0.05)\n",
      "\n"
     ]
    }
   ],
   "source": [
    "# Create boxplots for each metric by Type and calculate p-values\n",
    "# Confectionary: deepskyblue, Household Goods: red\n",
    "\n",
    "import scipy.stats as stats\n",
    "\n",
    "# Define the metric columns (exclude File Name and category)\n",
    "metric_cols = [col for col in df.columns if col not in ['File Name', 'category']]\n",
    "\n",
    "# Custom palette\n",
    "palette = {'Confectionary': 'deepskyblue', 'Household Goods': 'slategrey'}\n",
    "\n",
    "print(\"Statistical Comparison: Confectionary vs Household Goods\")\n",
    "print(\"=\" * 60)\n",
    "\n",
    "# Create boxplots and calculate p-values for each metric\n",
    "for col in metric_cols:\n",
    "    # Create boxplot\n",
    "    plt.figure(figsize=(3, 2))  # Smaller figure size\n",
    "    sns.boxplot(data=df, x='category', y=col, palette=palette)\n",
    "    plt.title(f'{col} by Category', fontsize=14)  # Bigger font\n",
    "    plt.xlabel('category', fontsize=12)  # Bigger font\n",
    "    plt.ylabel(col, fontsize=12)  # Bigger font\n",
    "    plt.show()\n",
    "\n",
    "    # Calculate p-value using t-test (assuming normal distributions)\n",
    "    conf_data = df[df['category'] == 'Confectionary'][col].dropna()\n",
    "    hg_data = df[df['category'] == 'Household Goods'][col].dropna()\n",
    "\n",
    "    if len(conf_data) > 1 and len(hg_data) > 1:\n",
    "        # Perform t-test\n",
    "        t_stat, p_value = stats.ttest_ind(conf_data, hg_data, equal_var=False)  # Welch's t-test\n",
    "\n",
    "        print(f\"{col}:\")\n",
    "        print(f\"  Confectionary: n={len(conf_data)}, mean={conf_data.mean():.2f}, std={conf_data.std():.2f}\")\n",
    "        print(f\"  Household Goods: n={len(hg_data)}, mean={hg_data.mean():.2f}, std={hg_data.std():.2f}\")\n",
    "        print(f\"  t-statistic: {t_stat:.3f}, p-value: {p_value:.4f}\")\n",
    "        if p_value < 0.05:\n",
    "            print(\"  → Significant difference (p < 0.05)\")\n",
    "        else:\n",
    "            print(\"  → No significant difference (p >= 0.05)\")\n",
    "        print()\n",
    "    else:\n",
    "        print(f\"{col}: Insufficient data for statistical test\")\n",
    "        print()\n"
   ]
  },
  {
   "cell_type": "code",
   "execution_count": 69,
   "id": "0f77478b",
   "metadata": {},
   "outputs": [
    {
     "ename": "KeyError",
     "evalue": "'category'",
     "output_type": "error",
     "traceback": [
      "\u001b[31m---------------------------------------------------------------------------\u001b[39m",
      "\u001b[31mKeyError\u001b[39m                                  Traceback (most recent call last)",
      "\u001b[36mFile \u001b[39m\u001b[32mc:\\Users\\ashra\\Documents\\NeuralSense\\NeuralData\\clients\\Mondeles_Snake_Aisle\\.venv\\Lib\\site-packages\\pandas\\core\\indexes\\base.py:3812\u001b[39m, in \u001b[36mIndex.get_loc\u001b[39m\u001b[34m(self, key)\u001b[39m\n\u001b[32m   3811\u001b[39m \u001b[38;5;28;01mtry\u001b[39;00m:\n\u001b[32m-> \u001b[39m\u001b[32m3812\u001b[39m     \u001b[38;5;28;01mreturn\u001b[39;00m \u001b[38;5;28;43mself\u001b[39;49m\u001b[43m.\u001b[49m\u001b[43m_engine\u001b[49m\u001b[43m.\u001b[49m\u001b[43mget_loc\u001b[49m\u001b[43m(\u001b[49m\u001b[43mcasted_key\u001b[49m\u001b[43m)\u001b[49m\n\u001b[32m   3813\u001b[39m \u001b[38;5;28;01mexcept\u001b[39;00m \u001b[38;5;167;01mKeyError\u001b[39;00m \u001b[38;5;28;01mas\u001b[39;00m err:\n",
      "\u001b[36mFile \u001b[39m\u001b[32mpandas/_libs/index.pyx:167\u001b[39m, in \u001b[36mpandas._libs.index.IndexEngine.get_loc\u001b[39m\u001b[34m()\u001b[39m\n",
      "\u001b[36mFile \u001b[39m\u001b[32mpandas/_libs/index.pyx:196\u001b[39m, in \u001b[36mpandas._libs.index.IndexEngine.get_loc\u001b[39m\u001b[34m()\u001b[39m\n",
      "\u001b[36mFile \u001b[39m\u001b[32mpandas/_libs/hashtable_class_helper.pxi:7088\u001b[39m, in \u001b[36mpandas._libs.hashtable.PyObjectHashTable.get_item\u001b[39m\u001b[34m()\u001b[39m\n",
      "\u001b[36mFile \u001b[39m\u001b[32mpandas/_libs/hashtable_class_helper.pxi:7096\u001b[39m, in \u001b[36mpandas._libs.hashtable.PyObjectHashTable.get_item\u001b[39m\u001b[34m()\u001b[39m\n",
      "\u001b[31mKeyError\u001b[39m: 'category'",
      "\nThe above exception was the direct cause of the following exception:\n",
      "\u001b[31mKeyError\u001b[39m                                  Traceback (most recent call last)",
      "\u001b[36mCell\u001b[39m\u001b[36m \u001b[39m\u001b[32mIn[69]\u001b[39m\u001b[32m, line 10\u001b[39m\n\u001b[32m      7\u001b[39m metric_cols = [col \u001b[38;5;28;01mfor\u001b[39;00m col \u001b[38;5;129;01min\u001b[39;00m df.columns \u001b[38;5;28;01mif\u001b[39;00m col \u001b[38;5;129;01mnot\u001b[39;00m \u001b[38;5;129;01min\u001b[39;00m [\u001b[33m'\u001b[39m\u001b[33mFile Name\u001b[39m\u001b[33m'\u001b[39m, \u001b[33m'\u001b[39m\u001b[33mcategory\u001b[39m\u001b[33m'\u001b[39m]]\n\u001b[32m      9\u001b[39m \u001b[38;5;66;03m# Separate by type\u001b[39;00m\n\u001b[32m---> \u001b[39m\u001b[32m10\u001b[39m conf_stimuli = df[\u001b[43mdf\u001b[49m\u001b[43m[\u001b[49m\u001b[33;43m'\u001b[39;49m\u001b[33;43mcategory\u001b[39;49m\u001b[33;43m'\u001b[39;49m\u001b[43m]\u001b[49m == \u001b[33m'\u001b[39m\u001b[33mConfectionary\u001b[39m\u001b[33m'\u001b[39m][[\u001b[33m'\u001b[39m\u001b[33mFile Name\u001b[39m\u001b[33m'\u001b[39m] + metric_cols]\n\u001b[32m     11\u001b[39m hg_stimuli = df[df[\u001b[33m'\u001b[39m\u001b[33mcategory\u001b[39m\u001b[33m'\u001b[39m] == \u001b[33m'\u001b[39m\u001b[33mHousehold Goods\u001b[39m\u001b[33m'\u001b[39m][[\u001b[33m'\u001b[39m\u001b[33mFile Name\u001b[39m\u001b[33m'\u001b[39m] + metric_cols]\n\u001b[32m     13\u001b[39m \u001b[38;5;66;03m# Calculate differences for all pairs\u001b[39;00m\n",
      "\u001b[36mFile \u001b[39m\u001b[32mc:\\Users\\ashra\\Documents\\NeuralSense\\NeuralData\\clients\\Mondeles_Snake_Aisle\\.venv\\Lib\\site-packages\\pandas\\core\\frame.py:4107\u001b[39m, in \u001b[36mDataFrame.__getitem__\u001b[39m\u001b[34m(self, key)\u001b[39m\n\u001b[32m   4105\u001b[39m \u001b[38;5;28;01mif\u001b[39;00m \u001b[38;5;28mself\u001b[39m.columns.nlevels > \u001b[32m1\u001b[39m:\n\u001b[32m   4106\u001b[39m     \u001b[38;5;28;01mreturn\u001b[39;00m \u001b[38;5;28mself\u001b[39m._getitem_multilevel(key)\n\u001b[32m-> \u001b[39m\u001b[32m4107\u001b[39m indexer = \u001b[38;5;28;43mself\u001b[39;49m\u001b[43m.\u001b[49m\u001b[43mcolumns\u001b[49m\u001b[43m.\u001b[49m\u001b[43mget_loc\u001b[49m\u001b[43m(\u001b[49m\u001b[43mkey\u001b[49m\u001b[43m)\u001b[49m\n\u001b[32m   4108\u001b[39m \u001b[38;5;28;01mif\u001b[39;00m is_integer(indexer):\n\u001b[32m   4109\u001b[39m     indexer = [indexer]\n",
      "\u001b[36mFile \u001b[39m\u001b[32mc:\\Users\\ashra\\Documents\\NeuralSense\\NeuralData\\clients\\Mondeles_Snake_Aisle\\.venv\\Lib\\site-packages\\pandas\\core\\indexes\\base.py:3819\u001b[39m, in \u001b[36mIndex.get_loc\u001b[39m\u001b[34m(self, key)\u001b[39m\n\u001b[32m   3814\u001b[39m     \u001b[38;5;28;01mif\u001b[39;00m \u001b[38;5;28misinstance\u001b[39m(casted_key, \u001b[38;5;28mslice\u001b[39m) \u001b[38;5;129;01mor\u001b[39;00m (\n\u001b[32m   3815\u001b[39m         \u001b[38;5;28misinstance\u001b[39m(casted_key, abc.Iterable)\n\u001b[32m   3816\u001b[39m         \u001b[38;5;129;01mand\u001b[39;00m \u001b[38;5;28many\u001b[39m(\u001b[38;5;28misinstance\u001b[39m(x, \u001b[38;5;28mslice\u001b[39m) \u001b[38;5;28;01mfor\u001b[39;00m x \u001b[38;5;129;01min\u001b[39;00m casted_key)\n\u001b[32m   3817\u001b[39m     ):\n\u001b[32m   3818\u001b[39m         \u001b[38;5;28;01mraise\u001b[39;00m InvalidIndexError(key)\n\u001b[32m-> \u001b[39m\u001b[32m3819\u001b[39m     \u001b[38;5;28;01mraise\u001b[39;00m \u001b[38;5;167;01mKeyError\u001b[39;00m(key) \u001b[38;5;28;01mfrom\u001b[39;00m\u001b[38;5;250m \u001b[39m\u001b[34;01merr\u001b[39;00m\n\u001b[32m   3820\u001b[39m \u001b[38;5;28;01mexcept\u001b[39;00m \u001b[38;5;167;01mTypeError\u001b[39;00m:\n\u001b[32m   3821\u001b[39m     \u001b[38;5;66;03m# If we have a listlike key, _check_indexing_error will raise\u001b[39;00m\n\u001b[32m   3822\u001b[39m     \u001b[38;5;66;03m#  InvalidIndexError. Otherwise we fall through and re-raise\u001b[39;00m\n\u001b[32m   3823\u001b[39m     \u001b[38;5;66;03m#  the TypeError.\u001b[39;00m\n\u001b[32m   3824\u001b[39m     \u001b[38;5;28mself\u001b[39m._check_indexing_error(key)\n",
      "\u001b[31mKeyError\u001b[39m: 'category'"
     ]
    }
   ],
   "source": [
    "# Identify the most dissimilar stimulus pairs between Confectionary and Household Goods\n",
    "# Calculate average absolute difference across all metrics for each possible pair\n",
    "\n",
    "import itertools\n",
    "\n",
    "# Get the metric columns\n",
    "metric_cols = [col for col in df.columns if col not in ['File Name', 'category']]\n",
    "\n",
    "# Separate by type\n",
    "conf_stimuli = df[df['category'] == 'Confectionary'][['File Name'] + metric_cols]\n",
    "hg_stimuli = df[df['category'] == 'Household Goods'][['File Name'] + metric_cols]\n",
    "\n",
    "# Calculate differences for all pairs\n",
    "pair_differences = []\n",
    "\n",
    "for conf_row, hg_row in itertools.product(conf_stimuli.iterrows(), hg_stimuli.iterrows()):\n",
    "    conf_idx, conf_data = conf_row\n",
    "    hg_idx, hg_data = hg_row\n",
    "\n",
    "    # Calculate absolute differences for each metric\n",
    "    differences = []\n",
    "    for col in metric_cols:\n",
    "        conf_val = conf_data[col]\n",
    "        hg_val = hg_data[col]\n",
    "        if pd.notna(conf_val) and pd.notna(hg_val):\n",
    "            diff = abs(conf_val - hg_val)\n",
    "            differences.append(diff)\n",
    "\n",
    "    if differences:  # Only if we have valid differences\n",
    "        avg_diff = np.mean(differences)\n",
    "        pair_differences.append({\n",
    "            'Confectionary': conf_data['File Name'],\n",
    "            'Household Goods': hg_data['File Name'],\n",
    "            'Avg_Abs_Difference': avg_diff,\n",
    "            'Num_Metrics': len(differences)\n",
    "        })\n",
    "\n",
    "# Sort by average difference (descending)\n",
    "pair_differences.sort(key=lambda x: x['Avg_Abs_Difference'], reverse=True)\n",
    "\n",
    "# Display top 2 most dissimilar pairs\n",
    "print(\"Top 2 Most Dissimilar Stimulus Pairs\")\n",
    "print(\"=\" * 50)\n",
    "for i, pair in enumerate(pair_differences[:2], 1):\n",
    "    print(f\"{i}. {pair['Confectionary']} vs {pair['Household Goods']}\")\n",
    "    print(f\"   Average absolute difference: {pair['Avg_Abs_Difference']:.2f}\")\n",
    "    print(f\"   Based on {pair['Num_Metrics']} metrics\")\n",
    "    print()\n",
    "\n",
    "# Also show the least dissimilar pair for comparison\n",
    "if pair_differences:\n",
    "    least = pair_differences[-1]\n",
    "    print(\"Least Dissimilar Pair (for comparison):\")\n",
    "    print(f\"{least['Confectionary']} vs {least['Household Goods']}\")\n",
    "    print(f\"   Average absolute difference: {least['Avg_Abs_Difference']:.2f}\")\n",
    "    print(f\"   Based on {least['Num_Metrics']} metrics\")\n",
    "\n",
    "print(\"\\n\" + \"=\" * 60)\n",
    "print(\"Most Dissimilar Pairs Per Metric\")\n",
    "print(\"=\" * 60)\n",
    "\n",
    "# Calculate most dissimilar pair for each metric\n",
    "for col in metric_cols:\n",
    "    max_diff = 0\n",
    "    max_pair = None\n",
    "    \n",
    "    for conf_row, hg_row in itertools.product(conf_stimuli.iterrows(), hg_stimuli.iterrows()):\n",
    "        conf_idx, conf_data = conf_row\n",
    "        hg_idx, hg_data = hg_row\n",
    "        \n",
    "        conf_val = conf_data[col]\n",
    "        hg_val = hg_data[col]\n",
    "        \n",
    "        if pd.notna(conf_val) and pd.notna(hg_val):\n",
    "            diff = abs(conf_val - hg_val)\n",
    "            if diff > max_diff:\n",
    "                max_diff = diff\n",
    "                max_pair = {\n",
    "                    'Confectionary': conf_data['File Name'],\n",
    "                    'Household Goods': hg_data['File Name'],\n",
    "                    'Difference': diff\n",
    "                }\n",
    "    \n",
    "    if max_pair:\n",
    "        print(f\"\\n{col}:\")\n",
    "        print(f\"  Most dissimilar: {max_pair['Confectionary']} vs {max_pair['Household Goods']}\")\n",
    "        print(f\"  Absolute difference: {max_pair['Difference']:.2f}\")"
   ]
  },
  {
   "cell_type": "code",
   "execution_count": null,
   "id": "c15277da",
   "metadata": {},
   "outputs": [
    {
     "name": "stdout",
     "output_type": "stream",
     "text": [
      "Confectionary Stimuli: Highest and Lowest Scores Per Metric\n",
      "=================================================================\n",
      "\n",
      "Cognitive Demand:\n",
      "  Highest: C7 (72.44)\n",
      "  Lowest:  C8 (57.96)\n",
      "  Range:   14.48\n",
      "\n",
      "Total Focus:\n",
      "  Highest: C4 (67.24)\n",
      "  Lowest:  C8 (43.52)\n",
      "  Range:   23.71\n",
      "\n",
      "Clarity:\n",
      "  Highest: C2 (74.96)\n",
      "  Lowest:  C4 (55.31)\n",
      "  Range:   19.65\n",
      "\n",
      "Start Focus:\n",
      "  Highest: C3 (69.73)\n",
      "  Lowest:  C6 (33.63)\n",
      "  Range:   36.10\n",
      "\n",
      "End Focus:\n",
      "  Highest: C7 (40.92)\n",
      "  Lowest:  C6 (19.71)\n",
      "  Range:   21.21\n",
      "\n",
      "Memory:\n",
      "  Highest: C13 (66.00)\n",
      "  Lowest:  C2 (17.75)\n",
      "  Range:   48.25\n",
      "\n",
      "Engagement:\n",
      "  Highest: C2 (66.61)\n",
      "  Lowest:  C6 (29.37)\n",
      "  Range:   37.23\n",
      "\n",
      "Total Confectionary stimuli analyzed: 14\n"
     ]
    }
   ],
   "source": [
    "# For Confectionary stimuli, show highest and lowest scoring stimuli per metric\n",
    "\n",
    "# Filter to Confectionary only\n",
    "conf_df = df[df['category'] == 'Confectionary']\n",
    "\n",
    "print(\"Confectionary Stimuli: Highest and Lowest Scores Per Metric\")\n",
    "print(\"=\" * 65)\n",
    "\n",
    "for col in metric_cols:\n",
    "    # Get non-null values for this metric\n",
    "    valid_data = conf_df[['File Name', col]].dropna()\n",
    "    \n",
    "    if len(valid_data) >= 2:  # Need at least 2 values to show high/low\n",
    "        # Find highest\n",
    "        max_row = valid_data.loc[valid_data[col].idxmax()]\n",
    "        # Find lowest  \n",
    "        min_row = valid_data.loc[valid_data[col].idxmin()]\n",
    "        \n",
    "        print(f\"\\n{col}:\")\n",
    "        print(f\"  Highest: {max_row['File Name']} ({max_row[col]:.2f})\")\n",
    "        print(f\"  Lowest:  {min_row['File Name']} ({min_row[col]:.2f})\")\n",
    "        print(f\"  Range:   {max_row[col] - min_row[col]:.2f}\")\n",
    "    else:\n",
    "        print(f\"\\n{col}: Insufficient data\")\n",
    "\n",
    "print(f\"\\nTotal Confectionary stimuli analyzed: {len(conf_df)}\")"
   ]
  },
  {
   "cell_type": "code",
   "execution_count": 68,
   "id": "ed9f670c",
   "metadata": {},
   "outputs": [],
   "source": [
    "df.to_csv('cleaned_image_scores.csv', index=False)"
   ]
  }
 ],
 "metadata": {
  "kernelspec": {
   "display_name": ".venv",
   "language": "python",
   "name": "python3"
  },
  "language_info": {
   "codemirror_mode": {
    "name": "ipython",
    "version": 3
   },
   "file_extension": ".py",
   "mimetype": "text/x-python",
   "name": "python",
   "nbconvert_exporter": "python",
   "pygments_lexer": "ipython3",
   "version": "3.13.7"
  }
 },
 "nbformat": 4,
 "nbformat_minor": 5
}
